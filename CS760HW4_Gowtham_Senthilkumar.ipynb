{
  "nbformat": 4,
  "nbformat_minor": 0,
  "metadata": {
    "colab": {
      "provenance": []
    },
    "kernelspec": {
      "name": "python3",
      "display_name": "Python 3"
    },
    "language_info": {
      "name": "python"
    },
    "accelerator": "GPU",
    "gpuClass": "standard"
  },
  "cells": [
    {
      "cell_type": "code",
      "execution_count": 1,
      "metadata": {
        "id": "C6Ll3hG0JlkG"
      },
      "outputs": [],
      "source": [
        "import pandas as pd\n",
        "import numpy as np\n",
        "import matplotlib.pyplot as plt\n",
        "import tarfile\n",
        "import os"
      ]
    },
    {
      "cell_type": "code",
      "source": [
        "from google.colab import drive\n",
        "drive.mount('/content/drive')"
      ],
      "metadata": {
        "colab": {
          "base_uri": "https://localhost:8080/"
        },
        "id": "BRPI7wQV9PQs",
        "outputId": "20a226b1-74ab-4218-8f2e-ebd40a8fdca6"
      },
      "execution_count": 3,
      "outputs": [
        {
          "output_type": "stream",
          "name": "stdout",
          "text": [
            "Mounted at /content/drive\n"
          ]
        }
      ]
    },
    {
      "cell_type": "markdown",
      "source": [
        "**(2) Language Identification with a Naive Bayes Classifier**"
      ],
      "metadata": {
        "id": "ByOxvBJSoSpW"
      }
    },
    {
      "cell_type": "code",
      "source": [
        "# files = tarfile.open('/content/drive/MyDrive/Colab Notebooks/CS760HW4/languageID.tgz', 'r:gz')\n",
        "# files\n",
        "\n",
        "# files.extractall('/content/drive/MyDrive/Colab Notebooks/CS760HW4/train_files')\n",
        "# files.close"
      ],
      "metadata": {
        "id": "GQdbsN3wLtUr",
        "colab": {
          "base_uri": "https://localhost:8080/"
        },
        "outputId": "e6d743f5-6312-46a3-f08c-021159cdadc3"
      },
      "execution_count": null,
      "outputs": [
        {
          "output_type": "execute_result",
          "data": {
            "text/plain": [
              "<bound method TarFile.close of <tarfile.TarFile object at 0x7ff91515a040>>"
            ]
          },
          "metadata": {},
          "execution_count": 33
        }
      ]
    },
    {
      "cell_type": "markdown",
      "source": [
        "Text Files -> Arrays of Characters with Labels"
      ],
      "metadata": {
        "id": "i7zA19PcTuSU"
      }
    },
    {
      "cell_type": "code",
      "source": [
        "train_folder = '/content/drive/MyDrive/Colab Notebooks/CS760HW4/train_files/languageID'\n",
        "\n",
        "languages = ['e', 'j', 's']  \n",
        "file_names = []\n",
        "for lang in languages:\n",
        "    for i in range(0, 20):\n",
        "        file_names.append(f\"{lang}{i}.txt\")\n",
        "\n",
        "X_train = []\n",
        "y_train = []\n",
        "\n",
        "for lang in languages:\n",
        "  for f in file_names:\n",
        "    if f.startswith(lang):  \n",
        "      with open(os.path.join(train_folder, f), 'r', encoding='utf-8') as file:\n",
        "        text = file.read()\n",
        "        X_train.append(text)\n",
        "        y_train.append(lang)\n",
        "#X_train\n",
        "#y_train"
      ],
      "metadata": {
        "id": "hPaDXrIYMjQB"
      },
      "execution_count": 4,
      "outputs": []
    },
    {
      "cell_type": "markdown",
      "source": [
        "Text -> Bag(s) of characters"
      ],
      "metadata": {
        "id": "5K-AOa1vXJeS"
      }
    },
    {
      "cell_type": "code",
      "source": [
        "#S = 27\n",
        "from sklearn.feature_extraction.text import CountVectorizer\n",
        "\n",
        "alphabet = 'abcdefghijklmnopqrstuvwxyz'\n",
        "custom_vocab = {char: i for i, char in enumerate(alphabet + ' ')}\n",
        "\n",
        "vectorizer = CountVectorizer(analyzer='char', lowercase=True, max_features=27, vocabulary=custom_vocab)\n",
        "train_features = vectorizer.fit_transform(X_train)"
      ],
      "metadata": {
        "id": "y_G99BwNRejO"
      },
      "execution_count": 5,
      "outputs": []
    },
    {
      "cell_type": "code",
      "source": [
        "from sklearn.naive_bayes import MultinomialNB\n",
        "\n",
        "clf = MultinomialNB(alpha=0.5)\n",
        "clf.fit(train_features, y_train)"
      ],
      "metadata": {
        "colab": {
          "base_uri": "https://localhost:8080/",
          "height": 74
        },
        "id": "H4ORIfLsTnoY",
        "outputId": "4a1d6ec9-a825-4ba3-d478-cd49dd6db7df"
      },
      "execution_count": 6,
      "outputs": [
        {
          "output_type": "execute_result",
          "data": {
            "text/plain": [
              "MultinomialNB(alpha=0.5)"
            ],
            "text/html": [
              "<style>#sk-container-id-1 {color: black;background-color: white;}#sk-container-id-1 pre{padding: 0;}#sk-container-id-1 div.sk-toggleable {background-color: white;}#sk-container-id-1 label.sk-toggleable__label {cursor: pointer;display: block;width: 100%;margin-bottom: 0;padding: 0.3em;box-sizing: border-box;text-align: center;}#sk-container-id-1 label.sk-toggleable__label-arrow:before {content: \"▸\";float: left;margin-right: 0.25em;color: #696969;}#sk-container-id-1 label.sk-toggleable__label-arrow:hover:before {color: black;}#sk-container-id-1 div.sk-estimator:hover label.sk-toggleable__label-arrow:before {color: black;}#sk-container-id-1 div.sk-toggleable__content {max-height: 0;max-width: 0;overflow: hidden;text-align: left;background-color: #f0f8ff;}#sk-container-id-1 div.sk-toggleable__content pre {margin: 0.2em;color: black;border-radius: 0.25em;background-color: #f0f8ff;}#sk-container-id-1 input.sk-toggleable__control:checked~div.sk-toggleable__content {max-height: 200px;max-width: 100%;overflow: auto;}#sk-container-id-1 input.sk-toggleable__control:checked~label.sk-toggleable__label-arrow:before {content: \"▾\";}#sk-container-id-1 div.sk-estimator input.sk-toggleable__control:checked~label.sk-toggleable__label {background-color: #d4ebff;}#sk-container-id-1 div.sk-label input.sk-toggleable__control:checked~label.sk-toggleable__label {background-color: #d4ebff;}#sk-container-id-1 input.sk-hidden--visually {border: 0;clip: rect(1px 1px 1px 1px);clip: rect(1px, 1px, 1px, 1px);height: 1px;margin: -1px;overflow: hidden;padding: 0;position: absolute;width: 1px;}#sk-container-id-1 div.sk-estimator {font-family: monospace;background-color: #f0f8ff;border: 1px dotted black;border-radius: 0.25em;box-sizing: border-box;margin-bottom: 0.5em;}#sk-container-id-1 div.sk-estimator:hover {background-color: #d4ebff;}#sk-container-id-1 div.sk-parallel-item::after {content: \"\";width: 100%;border-bottom: 1px solid gray;flex-grow: 1;}#sk-container-id-1 div.sk-label:hover label.sk-toggleable__label {background-color: #d4ebff;}#sk-container-id-1 div.sk-serial::before {content: \"\";position: absolute;border-left: 1px solid gray;box-sizing: border-box;top: 0;bottom: 0;left: 50%;z-index: 0;}#sk-container-id-1 div.sk-serial {display: flex;flex-direction: column;align-items: center;background-color: white;padding-right: 0.2em;padding-left: 0.2em;position: relative;}#sk-container-id-1 div.sk-item {position: relative;z-index: 1;}#sk-container-id-1 div.sk-parallel {display: flex;align-items: stretch;justify-content: center;background-color: white;position: relative;}#sk-container-id-1 div.sk-item::before, #sk-container-id-1 div.sk-parallel-item::before {content: \"\";position: absolute;border-left: 1px solid gray;box-sizing: border-box;top: 0;bottom: 0;left: 50%;z-index: -1;}#sk-container-id-1 div.sk-parallel-item {display: flex;flex-direction: column;z-index: 1;position: relative;background-color: white;}#sk-container-id-1 div.sk-parallel-item:first-child::after {align-self: flex-end;width: 50%;}#sk-container-id-1 div.sk-parallel-item:last-child::after {align-self: flex-start;width: 50%;}#sk-container-id-1 div.sk-parallel-item:only-child::after {width: 0;}#sk-container-id-1 div.sk-dashed-wrapped {border: 1px dashed gray;margin: 0 0.4em 0.5em 0.4em;box-sizing: border-box;padding-bottom: 0.4em;background-color: white;}#sk-container-id-1 div.sk-label label {font-family: monospace;font-weight: bold;display: inline-block;line-height: 1.2em;}#sk-container-id-1 div.sk-label-container {text-align: center;}#sk-container-id-1 div.sk-container {/* jupyter's `normalize.less` sets `[hidden] { display: none; }` but bootstrap.min.css set `[hidden] { display: none !important; }` so we also need the `!important` here to be able to override the default hidden behavior on the sphinx rendered scikit-learn.org. See: https://github.com/scikit-learn/scikit-learn/issues/21755 */display: inline-block !important;position: relative;}#sk-container-id-1 div.sk-text-repr-fallback {display: none;}</style><div id=\"sk-container-id-1\" class=\"sk-top-container\"><div class=\"sk-text-repr-fallback\"><pre>MultinomialNB(alpha=0.5)</pre><b>In a Jupyter environment, please rerun this cell to show the HTML representation or trust the notebook. <br />On GitHub, the HTML representation is unable to render, please try loading this page with nbviewer.org.</b></div><div class=\"sk-container\" hidden><div class=\"sk-item\"><div class=\"sk-estimator sk-toggleable\"><input class=\"sk-toggleable__control sk-hidden--visually\" id=\"sk-estimator-id-1\" type=\"checkbox\" checked><label for=\"sk-estimator-id-1\" class=\"sk-toggleable__label sk-toggleable__label-arrow\">MultinomialNB</label><div class=\"sk-toggleable__content\"><pre>MultinomialNB(alpha=0.5)</pre></div></div></div></div></div>"
            ]
          },
          "metadata": {},
          "execution_count": 6
        }
      ]
    },
    {
      "cell_type": "code",
      "source": [
        "X_test = ['These chips with salsa are delicious']\n",
        "test_features = vectorizer.transform(X_test)\n",
        "predictions = clf.predict(test_features)\n",
        "predictions"
      ],
      "metadata": {
        "colab": {
          "base_uri": "https://localhost:8080/"
        },
        "id": "B4QzTrGsYEgA",
        "outputId": "eb73573d-47fc-426b-fadc-d729c4742969"
      },
      "execution_count": 7,
      "outputs": [
        {
          "output_type": "execute_result",
          "data": {
            "text/plain": [
              "array(['e'], dtype='<U1')"
            ]
          },
          "metadata": {},
          "execution_count": 7
        }
      ]
    },
    {
      "cell_type": "code",
      "source": [
        "#(1) Prior Probabilities\n",
        "#Pα(Y = c_k) = (∑ 1[y(i) = c_k]) + α / (N + Kα)\n",
        "α = 0.5\n",
        "(20 + α)/(60 + 3*(α))"
      ],
      "metadata": {
        "colab": {
          "base_uri": "https://localhost:8080/"
        },
        "id": "fhwDj6NmaQC-",
        "outputId": "cedaae5e-67a4-4782-a088-fb20dfe1b611"
      },
      "execution_count": 8,
      "outputs": [
        {
          "output_type": "execute_result",
          "data": {
            "text/plain": [
              "0.3333333333333333"
            ]
          },
          "metadata": {},
          "execution_count": 8
        }
      ]
    },
    {
      "cell_type": "code",
      "source": [
        "#(2) Class Conditional Probabilities \n",
        "theta_e = np.zeros((27,))\n",
        "theta_j = np.zeros((27,))\n",
        "theta_s = np.zeros((27,))\n",
        "\n",
        "for i in range(27):\n",
        "  count_e = np.sum(train_features[0:20,i])\n",
        "  theta_e[i] = (count_e + α)/(np.sum(train_features[0:20,i]) + 27*α)\n",
        "  count_j = np.sum(train_features[20:40,i])\n",
        "  theta_j[i] = (count_j + α)/(np.sum(train_features[20:40,i]) + 27*α)\n",
        "  count_s = np.sum(train_features[40:60,i])\n",
        "  theta_s[i] = (count_s + α)/(np.sum(train_features[40:60,i]) + 27*α)\n",
        "\n",
        "print('e:', np.round(theta_e, 3))\n",
        "print('j:', np.round(theta_j, 3))\n",
        "print('s:', np.round(theta_s, 3))"
      ],
      "metadata": {
        "colab": {
          "base_uri": "https://localhost:8080/"
        },
        "id": "Ehanf4JCgIBT",
        "outputId": "b8cbbc93-e887-407f-9ac7-02cee59ac7e3"
      },
      "execution_count": 9,
      "outputs": [
        {
          "output_type": "stream",
          "name": "stdout",
          "text": [
            "e: [0.994 0.97  0.983 0.984 0.997 0.982 0.978 0.992 0.993 0.701 0.916 0.988\n",
            " 0.984 0.994 0.994 0.978 0.653 0.993 0.994 0.996 0.986 0.962 0.977 0.766\n",
            " 0.973 0.587 0.998]\n",
            "j: [0.997 0.957 0.92  0.973 0.993 0.885 0.971 0.986 0.995 0.823 0.992 0.726\n",
            " 0.989 0.992 0.995 0.612 0.103 0.99  0.99  0.992 0.994 0.297 0.978 0.037\n",
            " 0.968 0.945 0.997]\n",
            "s: [0.996 0.959 0.989 0.99  0.996 0.947 0.945 0.92  0.992 0.942 0.366 0.992\n",
            " 0.983 0.992 0.994 0.983 0.949 0.993 0.994 0.988 0.988 0.935 0.395 0.861\n",
            " 0.947 0.888 0.998]\n"
          ]
        }
      ]
    },
    {
      "cell_type": "code",
      "source": [
        "#(4) e10.txt as test set\n",
        "with open(os.path.join(train_folder, 'e10.txt'), 'r', encoding='utf-8') as file:\n",
        "  x = file.read()\n",
        "x_boc = vectorizer.fit_transform([x])\n",
        "x_boc.todense()"
      ],
      "metadata": {
        "colab": {
          "base_uri": "https://localhost:8080/"
        },
        "id": "qLdp5dqziT7m",
        "outputId": "1f14009b-fe80-4e23-807e-38c07df9f33d"
      },
      "execution_count": 10,
      "outputs": [
        {
          "output_type": "execute_result",
          "data": {
            "text/plain": [
              "matrix([[164,  32,  53,  57, 311,  55,  51, 140, 140,   3,   6,  85,  64,\n",
              "         139, 182,  53,   3, 141, 186, 225,  65,  31,  47,   4,  38,   2,\n",
              "         492]])"
            ]
          },
          "metadata": {},
          "execution_count": 10
        }
      ]
    },
    {
      "cell_type": "code",
      "source": [
        "#(5) ˆp(x | y) for y = e, j, s for e10.txt\n",
        "#exp(np.sum(x*log(theta) for each char in each language))\n",
        "for theta in [theta_e, theta_j, theta_s]:\n",
        "  print(np.sum(x_boc*np.log(theta)))\n",
        "  print(np.log(theta))"
      ],
      "metadata": {
        "colab": {
          "base_uri": "https://localhost:8080/"
        },
        "id": "xC1SWXX3-60O",
        "outputId": "eb4e5324-fc95-4e04-d8b5-74daf08719bd"
      },
      "execution_count": 11,
      "outputs": [
        {
          "output_type": "stream",
          "name": "stdout",
          "text": [
            "-27.52183139940881\n",
            "[-0.00593338 -0.03023486 -0.01668845 -0.01643526 -0.00345561 -0.01818232\n",
            " -0.02264905 -0.00784554 -0.00668039 -0.35503425 -0.08789438 -0.01209317\n",
            " -0.01641451 -0.00636633 -0.00562042 -0.02210974 -0.42566782 -0.00723029\n",
            " -0.00573447 -0.00439338 -0.01419238 -0.03916163 -0.02342449 -0.26687894\n",
            " -0.02702867 -0.53221681 -0.00202808]\n",
            "-144.89675562292027\n",
            "[-0.00340314 -0.04437588 -0.08284991 -0.02714154 -0.0074799  -0.12164511\n",
            " -0.02981872 -0.01420789 -0.0045407  -0.19464204 -0.00784554 -0.31977039\n",
            " -0.01097057 -0.00787883 -0.00497133 -0.49112055 -2.26868354 -0.0105179\n",
            " -0.0105179  -0.00773813 -0.00638823 -1.21302264 -0.02196034 -3.29583687\n",
            " -0.03202244 -0.05653679 -0.00350499]\n",
            "-89.5295802837406\n",
            "[-0.00388989 -0.04235161 -0.01123607 -0.01020417 -0.00368899 -0.05486608\n",
            " -0.05604915 -0.08338161 -0.00826977 -0.05992576 -1.00552187 -0.00778447\n",
            " -0.01666705 -0.00761128 -0.0058506  -0.01703842 -0.0522207  -0.00706909\n",
            " -0.00623802 -0.01168028 -0.01179687 -0.06773422 -0.92798677 -0.14970425\n",
            " -0.05463544 -0.11831966 -0.00244361]\n"
          ]
        }
      ]
    },
    {
      "cell_type": "code",
      "source": [
        "#(6) posterior p(y|x) = p(x|y)*p(y)\n",
        "for theta in [theta_e, theta_j, theta_s]:\n",
        "  print(np.sum(x_boc*np.log(theta)) - np.log(3))\n",
        "  print(np.log(theta))"
      ],
      "metadata": {
        "colab": {
          "base_uri": "https://localhost:8080/"
        },
        "id": "NvH-b-9KNsoK",
        "outputId": "0fda9959-4a68-48e8-de6c-ad9bb251d778"
      },
      "execution_count": 12,
      "outputs": [
        {
          "output_type": "stream",
          "name": "stdout",
          "text": [
            "-28.62044368807692\n",
            "[-0.00593338 -0.03023486 -0.01668845 -0.01643526 -0.00345561 -0.01818232\n",
            " -0.02264905 -0.00784554 -0.00668039 -0.35503425 -0.08789438 -0.01209317\n",
            " -0.01641451 -0.00636633 -0.00562042 -0.02210974 -0.42566782 -0.00723029\n",
            " -0.00573447 -0.00439338 -0.01419238 -0.03916163 -0.02342449 -0.26687894\n",
            " -0.02702867 -0.53221681 -0.00202808]\n",
            "-145.99536791158837\n",
            "[-0.00340314 -0.04437588 -0.08284991 -0.02714154 -0.0074799  -0.12164511\n",
            " -0.02981872 -0.01420789 -0.0045407  -0.19464204 -0.00784554 -0.31977039\n",
            " -0.01097057 -0.00787883 -0.00497133 -0.49112055 -2.26868354 -0.0105179\n",
            " -0.0105179  -0.00773813 -0.00638823 -1.21302264 -0.02196034 -3.29583687\n",
            " -0.03202244 -0.05653679 -0.00350499]\n",
            "-90.62819257240871\n",
            "[-0.00388989 -0.04235161 -0.01123607 -0.01020417 -0.00368899 -0.05486608\n",
            " -0.05604915 -0.08338161 -0.00826977 -0.05992576 -1.00552187 -0.00778447\n",
            " -0.01666705 -0.00761128 -0.0058506  -0.01703842 -0.0522207  -0.00706909\n",
            " -0.00623802 -0.01168028 -0.01179687 -0.06773422 -0.92798677 -0.14970425\n",
            " -0.05463544 -0.11831966 -0.00244361]\n"
          ]
        }
      ]
    },
    {
      "cell_type": "code",
      "source": [
        "#how does the classifier work?\n",
        "#create pipeline for classification\n",
        "def classify_nb(x_test):\n",
        "  with open(os.path.join(train_folder, x_test), 'r', encoding='utf-8') as file:\n",
        "    x = file.read()\n",
        "    x_boc = vectorizer.fit_transform([x])\n",
        "    \n",
        "  y_tester = -np.inf\n",
        "  i=[]\n",
        "  for theta in [theta_e, theta_j, theta_s]:\n",
        "    #print(np.sum(x_boc*np.log(theta)))\n",
        "    if(np.sum(x_boc*np.log(theta)) - np.log(3))>y_tester:\n",
        "      y_tester = np.sum(x_boc*np.log(theta)) - np.log(3)\n",
        "      i = theta\n",
        "  # print(i)  \n",
        "  if(np.array_equiv(i,theta_e)):\n",
        "    print('English')\n",
        "  elif(np.array_equiv(i,theta_j)):\n",
        "    print('Japanese')\n",
        "  else:\n",
        "    print('Spanish')\n",
        "\n",
        "  print(y_tester)"
      ],
      "metadata": {
        "id": "-ebKDQQPcaJ6"
      },
      "execution_count": 13,
      "outputs": []
    },
    {
      "cell_type": "code",
      "source": [
        "#(7) Performance of Classifier\n",
        "X_testset = []\n",
        "for lang in languages:\n",
        "    for i in range(10, 20):\n",
        "        X_testset.append(f\"{lang}{i}.txt\")\n",
        "#X_testset\n",
        "for x in X_testset:\n",
        "  print(x)\n",
        "  classify_nb(x)"
      ],
      "metadata": {
        "colab": {
          "base_uri": "https://localhost:8080/"
        },
        "id": "5DcDX3Lpe0Ia",
        "outputId": "60fec8b8-40ad-4c35-c96d-e7692dcb9111"
      },
      "execution_count": 14,
      "outputs": [
        {
          "output_type": "stream",
          "name": "stdout",
          "text": [
            "e10.txt\n",
            "English\n",
            "-28.62044368807692\n",
            "e11.txt\n",
            "English\n",
            "-32.3461800890574\n",
            "e12.txt\n",
            "English\n",
            "-17.671819016323965\n",
            "e13.txt\n",
            "English\n",
            "-16.898037692522045\n",
            "e14.txt\n",
            "English\n",
            "-16.64197548061217\n",
            "e15.txt\n",
            "English\n",
            "-16.517385839228552\n",
            "e16.txt\n",
            "English\n",
            "-25.980238502191863\n",
            "e17.txt\n",
            "English\n",
            "-25.207696370465666\n",
            "e18.txt\n",
            "English\n",
            "-16.085864174744465\n",
            "e19.txt\n",
            "English\n",
            "-6.661001809448502\n",
            "j10.txt\n",
            "Japanese\n",
            "-17.37161652303458\n",
            "j11.txt\n",
            "Japanese\n",
            "-15.152184102526695\n",
            "j12.txt\n",
            "Japanese\n",
            "-13.836801478066453\n",
            "j13.txt\n",
            "Japanese\n",
            "-18.8359261469053\n",
            "j14.txt\n",
            "Japanese\n",
            "-16.72414013635794\n",
            "j15.txt\n",
            "Japanese\n",
            "-16.241642532355286\n",
            "j16.txt\n",
            "Japanese\n",
            "-16.723159220062293\n",
            "j17.txt\n",
            "Japanese\n",
            "-17.299266314594764\n",
            "j18.txt\n",
            "Japanese\n",
            "-14.477352911373629\n",
            "j19.txt\n",
            "Japanese\n",
            "-15.145000960235278\n",
            "s10.txt\n",
            "Spanish\n",
            "-19.040037727303087\n",
            "s11.txt\n",
            "Spanish\n",
            "-7.102564612238936\n",
            "s12.txt\n",
            "Spanish\n",
            "-21.27520624296218\n",
            "s13.txt\n",
            "Spanish\n",
            "-11.131514371979133\n",
            "s14.txt\n",
            "Spanish\n",
            "-23.00954564934014\n",
            "s15.txt\n",
            "Spanish\n",
            "-16.765677356399017\n",
            "s16.txt\n",
            "Spanish\n",
            "-19.586822350308385\n",
            "s17.txt\n",
            "Spanish\n",
            "-19.80683668350667\n",
            "s18.txt\n",
            "Spanish\n",
            "-24.427961961945623\n",
            "s19.txt\n",
            "Spanish\n",
            "-13.449876619715672\n"
          ]
        }
      ]
    },
    {
      "cell_type": "code",
      "source": [
        "#(8) test document - say s16\n",
        "test_doc = 's7.txt'\n",
        "with open(os.path.join(train_folder, test_doc), 'r', encoding='utf-8') as file:\n",
        "    x_t = file.read()\n",
        "x_t\n",
        "\n",
        "import random\n",
        "char_list = list(x_t)\n",
        "random.shuffle(char_list)\n",
        "x_t_scrambled = ''.join(char_list)\n",
        "with open(os.path.join(train_folder,'x_t_scrambled.txt'), 'w') as file:\n",
        "    file.write(x_t_scrambled)\n",
        "\n",
        "classify_nb('x_t_scrambled.txt')"
      ],
      "metadata": {
        "colab": {
          "base_uri": "https://localhost:8080/"
        },
        "id": "yZ7ya1UjfH8s",
        "outputId": "0fca81d7-88c5-442d-bd2a-3e3f10193d1f"
      },
      "execution_count": 15,
      "outputs": [
        {
          "output_type": "stream",
          "name": "stdout",
          "text": [
            "Spanish\n",
            "-13.511257907895676\n"
          ]
        }
      ]
    },
    {
      "cell_type": "markdown",
      "source": [
        "**(3) Simple Feed-Forward Neural Network**"
      ],
      "metadata": {
        "id": "1GMFuoiuWGFA"
      }
    },
    {
      "cell_type": "code",
      "source": [
        "#(2) Neural Network in NumPy\n",
        "#utitlized CuPy instead of NumPy so that it runs faster\n",
        "import cupy as cp\n",
        "\n",
        "def sigmoid(z):\n",
        "    return 1 / (1 + cp.exp(-z))\n",
        "\n",
        "def softmax(z):\n",
        "    exp_z = cp.exp(z)\n",
        "    return exp_z / cp.sum(exp_z)\n",
        "  \n",
        "\n",
        "def forward(x, params):\n",
        "    W1, W2, W3 = params\n",
        "    z1 = cp.dot(W1, x)\n",
        "    a1 = sigmoid(z1)\n",
        "    z2 = cp.dot(W2, a1)\n",
        "    a2 = sigmoid(z2)\n",
        "    z3 = cp.dot(W3, a2)\n",
        "    y_hat = softmax(z3)\n",
        "    return a1, a2, y_hat\n",
        "\n",
        "def backward(x, y, params, a1, a2, y_hat):\n",
        "    W1, W2, W3 = params\n",
        "    delta3 = y_hat - y\n",
        "    grad_W3 = cp.outer(delta3, a2)\n",
        "    delta2 = cp.dot(W3.T, delta3) * (a2 * (1 - a2))\n",
        "    grad_W2 = cp.outer(delta2, a1)\n",
        "    delta1 = cp.dot(W2.T, delta2) * (a1 * (1 - a1))\n",
        "    grad_W1 = cp.outer(delta1, x)\n",
        "    return grad_W1, grad_W2, grad_W3\n",
        "\n",
        "def nn_train(X, y, n_hidden, n_epochs, learning_rate, batch_size):\n",
        "    X = cp.asarray(X)\n",
        "    y = cp.asarray(y)\n",
        "    n_input = X.shape[1] #d\n",
        "    n_output = y.shape[1] #k\n",
        "    W1 = cp.random.randn(n_hidden[0], n_input) #d1 x d\n",
        "    W2 = cp.random.randn(n_hidden[1], n_hidden[0]) #d2 x d1\n",
        "    W3 = cp.random.randn(n_output, n_hidden[1]) #k x d2\n",
        "    losses = []\n",
        "    for i in range(n_epochs):\n",
        "        total_loss = 0\n",
        "        for j in range(0, len(X), batch_size):\n",
        "            X_batch = X[j:j+batch_size]\n",
        "            y_batch = y[j:j+batch_size]\n",
        "            for k in range(len(X_batch)):\n",
        "                x = X_batch[k]\n",
        "                y_true = y_batch[k]\n",
        "                a1, a2, y_hat = forward(x, [W1, W2, W3])\n",
        "                loss = -cp.sum(y_true * cp.log(y_hat))\n",
        "                total_loss += loss\n",
        "                grad_W1, grad_W2, grad_W3 = backward(x, y_true, [W1, W2, W3], a1, a2, y_hat)\n",
        "                W1 = W1 - learning_rate * grad_W1\n",
        "                W2 = W2 - learning_rate * grad_W2\n",
        "                W3 = W3 - learning_rate * grad_W3\n",
        "        #print(f\"Epoch {i+1}, loss: {total_loss.get()}\")\n",
        "#        print(f\"Epoch {i+1}, loss: {total_loss}\")\n",
        "        losses.append(total_loss)\n",
        "    \n",
        "    return W1, W2, W3, losses\n"
      ],
      "metadata": {
        "id": "v19dypS8WFuC"
      },
      "execution_count": 22,
      "outputs": []
    },
    {
      "cell_type": "markdown",
      "source": [
        "MNIST dataset"
      ],
      "metadata": {
        "id": "CwLUIwzCYaNg"
      }
    },
    {
      "cell_type": "code",
      "source": [
        "import tensorflow as tf\n",
        "from tensorflow import keras\n",
        "from keras.utils import to_categorical\n",
        "\n",
        "from keras.datasets import mnist\n",
        "(Xnn_train, ynn_train), (Xnn_val, ynn_val) = mnist.load_data()"
      ],
      "metadata": {
        "id": "sUZeSn8wXVrl",
        "colab": {
          "base_uri": "https://localhost:8080/"
        },
        "outputId": "f87c9cc1-faf2-4025-a598-2967d73f3d03"
      },
      "execution_count": 17,
      "outputs": [
        {
          "output_type": "stream",
          "name": "stdout",
          "text": [
            "Downloading data from https://storage.googleapis.com/tensorflow/tf-keras-datasets/mnist.npz\n",
            "11490434/11490434 [==============================] - 0s 0us/step\n"
          ]
        }
      ]
    },
    {
      "cell_type": "code",
      "source": [
        "# plt.imshow(Xnn_train[713])\n",
        "# print(ynn_train[713])\n",
        "\n",
        "#normalizing the dataset\n",
        "Xnn_train_f = Xnn_train.reshape((Xnn_train.shape[0], -1)) / 255.0\n",
        "Xnn_val_f = Xnn_val.reshape((Xnn_val.shape[0], -1)) / 255.0\n",
        "\n",
        "#one-hot encoding the labels\n",
        "ynn_train = to_categorical(ynn_train)\n",
        "ynn_val = to_categorical(ynn_val)\n",
        "\n",
        "#train and test using flattened Xnn_train_f, visualize using Xnn_train"
      ],
      "metadata": {
        "id": "2-tKvBQBZaWw"
      },
      "execution_count": 18,
      "outputs": []
    },
    {
      "cell_type": "code",
      "source": [
        "d1 = 300\n",
        "d2 = 200\n",
        "d3 = 100\n",
        "n_hidden = [d1, d2]\n",
        "\n",
        "n_epochs = 70\n",
        "learning_rate = 0.01\n",
        "batch_size = 32\n",
        "\n",
        "# train model\n",
        "W1, W2, W3, losses = nn_train(Xnn_train_f, ynn_train, n_hidden=n_hidden, n_epochs=n_epochs, learning_rate=learning_rate, batch_size=batch_size)\n"
      ],
      "metadata": {
        "id": "jB0ZZ5bAaH-u"
      },
      "execution_count": 23,
      "outputs": []
    },
    {
      "cell_type": "code",
      "source": [
        "plt.figure(figsize=(12,9))\n",
        "plt.plot(range(1,71),cp.asnumpy(losses))\n",
        "plt.xlabel('Epochs')\n",
        "plt.ylabel('Loss')\n",
        "plt.title('Learning Curve_CuPy implementation')\n",
        "plt.savefig('/content/drive/MyDrive/Colab Notebooks/CS760HW4/LC_CuPy.pdf')"
      ],
      "metadata": {
        "colab": {
          "base_uri": "https://localhost:8080/",
          "height": 567
        },
        "id": "8AkfOzONxIpm",
        "outputId": "aa5b91b6-4867-4c56-c7f2-06d5a45064b6"
      },
      "execution_count": 36,
      "outputs": [
        {
          "output_type": "display_data",
          "data": {
            "text/plain": [
              "<Figure size 864x648 with 1 Axes>"
            ],
            "image/png": "[encoded data removed]"
          },
          "metadata": {
            "needs_background": "light"
          }
        }
      ]
    },
    {
      "cell_type": "code",
      "source": [
        "#Test Error\n",
        "\n",
        "def nn_test(X_val, y_val, params):\n",
        "    W1, W2, W3 = params\n",
        "    X_val = cp.asarray(X_val)\n",
        "    y_val = cp.asarray(y_val)\n",
        "    n_samples = X_val.shape[0]\n",
        "    total_loss = 0\n",
        "    correct_count = 0\n",
        "    for i in range(n_samples):\n",
        "        x = X_val[i]\n",
        "        y_true = y_val[i]\n",
        "        _, _, y_hat = forward(x, [W1, W2, W3])\n",
        "        loss = -cp.sum(y_true * cp.log(y_hat))\n",
        "        total_loss += loss\n",
        "        if cp.argmax(y_hat) == cp.argmax(y_true):\n",
        "            correct_count += 1\n",
        "    avg_loss = total_loss / n_samples\n",
        "    accuracy = correct_count / n_samples\n",
        "    return (1-accuracy)\n",
        "\n",
        "nn_test(Xnn_val_f, ynn_val, [W1,W2,W3])"
      ],
      "metadata": {
        "colab": {
          "base_uri": "https://localhost:8080/"
        },
        "id": "gb-25aGfAQHP",
        "outputId": "bf45cd7f-bced-4cc4-92a4-011d9b5941f8"
      },
      "execution_count": 79,
      "outputs": [
        {
          "output_type": "execute_result",
          "data": {
            "text/plain": [
              "0.051000000000000045"
            ]
          },
          "metadata": {},
          "execution_count": 79
        }
      ]
    },
    {
      "cell_type": "code",
      "source": [
        "#(3) Neural Network implemented in Tensorflow\n",
        "from tensorflow.keras.layers import Dense\n",
        "\n",
        "# neural network architecture\n",
        "model = tf.keras.models.Sequential([\n",
        "    Dense(n_hidden[0], activation='sigmoid', input_shape=(Xnn_train_f.shape[1],)),\n",
        "    Dense(n_hidden[1], activation='sigmoid'),\n",
        "    Dense(ynn_train.shape[1], activation='softmax')\n",
        "])\n",
        "\n",
        "# compile model with stochastic gradient descent optimizer\n",
        "model.compile(optimizer=tf.keras.optimizers.SGD(learning_rate=0.01),\n",
        "              loss='categorical_crossentropy',\n",
        "              metrics=['accuracy'])\n",
        "\n",
        "# train model with batch size of 32 and 70 epochs\n",
        "history = model.fit(Xnn_train_f, ynn_train, epochs=70, batch_size=32)\n",
        "\n",
        "# evaluate model on test set\n",
        "test_loss, test_acc = model.evaluate(Xnn_val_f, ynn_val)\n",
        "print(f'Test error: {1 - test_acc}')"
      ],
      "metadata": {
        "colab": {
          "base_uri": "https://localhost:8080/"
        },
        "outputId": "d94bc880-a410-44c3-b70f-4377c7d2f4e2",
        "id": "0rJY5Exsp_vM"
      },
      "execution_count": null,
      "outputs": [
        {
          "output_type": "stream",
          "name": "stdout",
          "text": [
            "Epoch 1/70\n",
            "1875/1875 [==============================] - 9s 3ms/step - loss: 2.1400 - accuracy: 0.3815\n",
            "Epoch 2/70\n",
            "1875/1875 [==============================] - 5s 3ms/step - loss: 1.4606 - accuracy: 0.6783\n",
            "Epoch 3/70\n",
            "1875/1875 [==============================] - 8s 4ms/step - loss: 0.8802 - accuracy: 0.7875\n",
            "Epoch 4/70\n",
            "1875/1875 [==============================] - 5s 3ms/step - loss: 0.6447 - accuracy: 0.8339\n",
            "Epoch 5/70\n",
            "1875/1875 [==============================] - 6s 3ms/step - loss: 0.5309 - accuracy: 0.8581\n",
            "Epoch 6/70\n",
            "1875/1875 [==============================] - 5s 3ms/step - loss: 0.4660 - accuracy: 0.8740\n",
            "Epoch 7/70\n",
            "1875/1875 [==============================] - 5s 3ms/step - loss: 0.4247 - accuracy: 0.8845\n",
            "Epoch 8/70\n",
            "1875/1875 [==============================] - 6s 3ms/step - loss: 0.3968 - accuracy: 0.8905\n",
            "Epoch 9/70\n",
            "1875/1875 [==============================] - 5s 3ms/step - loss: 0.3768 - accuracy: 0.8949\n",
            "Epoch 10/70\n",
            "1875/1875 [==============================] - 6s 3ms/step - loss: 0.3616 - accuracy: 0.8972\n",
            "Epoch 11/70\n",
            "1875/1875 [==============================] - 6s 3ms/step - loss: 0.3494 - accuracy: 0.9006\n",
            "Epoch 12/70\n",
            "1875/1875 [==============================] - 5s 3ms/step - loss: 0.3398 - accuracy: 0.9029\n",
            "Epoch 13/70\n",
            "1875/1875 [==============================] - 7s 4ms/step - loss: 0.3311 - accuracy: 0.9054\n",
            "Epoch 14/70\n",
            "1875/1875 [==============================] - 5s 3ms/step - loss: 0.3237 - accuracy: 0.9064\n",
            "Epoch 15/70\n",
            "1875/1875 [==============================] - 6s 3ms/step - loss: 0.3172 - accuracy: 0.9086\n",
            "Epoch 16/70\n",
            "1875/1875 [==============================] - 5s 3ms/step - loss: 0.3113 - accuracy: 0.9107\n",
            "Epoch 17/70\n",
            "1875/1875 [==============================] - 5s 3ms/step - loss: 0.3059 - accuracy: 0.9118\n",
            "Epoch 18/70\n",
            "1875/1875 [==============================] - 6s 3ms/step - loss: 0.3011 - accuracy: 0.9134\n",
            "Epoch 19/70\n",
            "1875/1875 [==============================] - 5s 3ms/step - loss: 0.2965 - accuracy: 0.9150\n",
            "Epoch 20/70\n",
            "1875/1875 [==============================] - 5s 3ms/step - loss: 0.2921 - accuracy: 0.9155\n",
            "Epoch 21/70\n",
            "1875/1875 [==============================] - 5s 3ms/step - loss: 0.2881 - accuracy: 0.9169\n",
            "Epoch 22/70\n",
            "1875/1875 [==============================] - 5s 3ms/step - loss: 0.2844 - accuracy: 0.9174\n",
            "Epoch 23/70\n",
            "1875/1875 [==============================] - 6s 3ms/step - loss: 0.2808 - accuracy: 0.9185\n",
            "Epoch 24/70\n",
            "1875/1875 [==============================] - 5s 3ms/step - loss: 0.2774 - accuracy: 0.9197\n",
            "Epoch 25/70\n",
            "1875/1875 [==============================] - 5s 3ms/step - loss: 0.2740 - accuracy: 0.9202\n",
            "Epoch 26/70\n",
            "1875/1875 [==============================] - 6s 3ms/step - loss: 0.2711 - accuracy: 0.9217\n",
            "Epoch 27/70\n",
            "1875/1875 [==============================] - 5s 2ms/step - loss: 0.2678 - accuracy: 0.9226\n",
            "Epoch 28/70\n",
            "1875/1875 [==============================] - 5s 3ms/step - loss: 0.2649 - accuracy: 0.9231\n",
            "Epoch 29/70\n",
            "1875/1875 [==============================] - 5s 3ms/step - loss: 0.2619 - accuracy: 0.9241\n",
            "Epoch 30/70\n",
            "1875/1875 [==============================] - 5s 2ms/step - loss: 0.2589 - accuracy: 0.9253\n",
            "Epoch 31/70\n",
            "1875/1875 [==============================] - 6s 3ms/step - loss: 0.2558 - accuracy: 0.9257\n",
            "Epoch 32/70\n",
            "1875/1875 [==============================] - 5s 3ms/step - loss: 0.2530 - accuracy: 0.9265\n",
            "Epoch 33/70\n",
            "1875/1875 [==============================] - 5s 3ms/step - loss: 0.2505 - accuracy: 0.9273\n",
            "Epoch 34/70\n",
            "1875/1875 [==============================] - 6s 3ms/step - loss: 0.2475 - accuracy: 0.9282\n",
            "Epoch 35/70\n",
            "1875/1875 [==============================] - 5s 3ms/step - loss: 0.2447 - accuracy: 0.9297\n",
            "Epoch 36/70\n",
            "1875/1875 [==============================] - 5s 3ms/step - loss: 0.2418 - accuracy: 0.9302\n",
            "Epoch 37/70\n",
            "1875/1875 [==============================] - 5s 3ms/step - loss: 0.2392 - accuracy: 0.9316\n",
            "Epoch 38/70\n",
            "1875/1875 [==============================] - 5s 3ms/step - loss: 0.2364 - accuracy: 0.9317\n",
            "Epoch 39/70\n",
            "1875/1875 [==============================] - 6s 3ms/step - loss: 0.2338 - accuracy: 0.9327\n",
            "Epoch 40/70\n",
            "1875/1875 [==============================] - 5s 3ms/step - loss: 0.2309 - accuracy: 0.9340\n",
            "Epoch 41/70\n",
            "1875/1875 [==============================] - 6s 3ms/step - loss: 0.2284 - accuracy: 0.9346\n",
            "Epoch 42/70\n",
            "1875/1875 [==============================] - 5s 3ms/step - loss: 0.2256 - accuracy: 0.9351\n",
            "Epoch 43/70\n",
            "1875/1875 [==============================] - 5s 3ms/step - loss: 0.2232 - accuracy: 0.9356\n",
            "Epoch 44/70\n",
            "1875/1875 [==============================] - 6s 3ms/step - loss: 0.2204 - accuracy: 0.9372\n",
            "Epoch 45/70\n",
            "1875/1875 [==============================] - 5s 3ms/step - loss: 0.2177 - accuracy: 0.9375\n",
            "Epoch 46/70\n",
            "1875/1875 [==============================] - 5s 3ms/step - loss: 0.2153 - accuracy: 0.9382\n",
            "Epoch 47/70\n",
            "1875/1875 [==============================] - 6s 3ms/step - loss: 0.2128 - accuracy: 0.9387\n",
            "Epoch 48/70\n",
            "1875/1875 [==============================] - 5s 3ms/step - loss: 0.2103 - accuracy: 0.9400\n",
            "Epoch 49/70\n",
            "1875/1875 [==============================] - 5s 3ms/step - loss: 0.2076 - accuracy: 0.9406\n",
            "Epoch 50/70\n",
            "1875/1875 [==============================] - 5s 3ms/step - loss: 0.2053 - accuracy: 0.9414\n",
            "Epoch 51/70\n",
            "1875/1875 [==============================] - 5s 3ms/step - loss: 0.2028 - accuracy: 0.9420\n",
            "Epoch 52/70\n",
            "1875/1875 [==============================] - 6s 3ms/step - loss: 0.2004 - accuracy: 0.9427\n",
            "Epoch 53/70\n",
            "1875/1875 [==============================] - 5s 3ms/step - loss: 0.1982 - accuracy: 0.9435\n",
            "Epoch 54/70\n",
            "1875/1875 [==============================] - 5s 3ms/step - loss: 0.1957 - accuracy: 0.9438\n",
            "Epoch 55/70\n",
            "1875/1875 [==============================] - 6s 3ms/step - loss: 0.1935 - accuracy: 0.9449\n",
            "Epoch 56/70\n",
            "1875/1875 [==============================] - 5s 3ms/step - loss: 0.1912 - accuracy: 0.9453\n",
            "Epoch 57/70\n",
            "1875/1875 [==============================] - 6s 3ms/step - loss: 0.1888 - accuracy: 0.9462\n",
            "Epoch 58/70\n",
            "1875/1875 [==============================] - 5s 3ms/step - loss: 0.1866 - accuracy: 0.9470\n",
            "Epoch 59/70\n",
            "1875/1875 [==============================] - 5s 3ms/step - loss: 0.1843 - accuracy: 0.9473\n",
            "Epoch 60/70\n",
            "1875/1875 [==============================] - 6s 3ms/step - loss: 0.1825 - accuracy: 0.9478\n",
            "Epoch 61/70\n",
            "1875/1875 [==============================] - 5s 3ms/step - loss: 0.1803 - accuracy: 0.9490\n",
            "Epoch 62/70\n",
            "1875/1875 [==============================] - 6s 3ms/step - loss: 0.1782 - accuracy: 0.9487\n",
            "Epoch 63/70\n",
            "1875/1875 [==============================] - 5s 3ms/step - loss: 0.1763 - accuracy: 0.9495\n",
            "Epoch 64/70\n",
            "1875/1875 [==============================] - 5s 3ms/step - loss: 0.1742 - accuracy: 0.9498\n",
            "Epoch 65/70\n",
            "1875/1875 [==============================] - 6s 3ms/step - loss: 0.1723 - accuracy: 0.9504\n",
            "Epoch 66/70\n",
            "1875/1875 [==============================] - 5s 3ms/step - loss: 0.1704 - accuracy: 0.9512\n",
            "Epoch 67/70\n",
            "1875/1875 [==============================] - 5s 3ms/step - loss: 0.1684 - accuracy: 0.9512\n",
            "Epoch 68/70\n",
            "1875/1875 [==============================] - 6s 3ms/step - loss: 0.1664 - accuracy: 0.9521\n",
            "Epoch 69/70\n",
            "1875/1875 [==============================] - 5s 3ms/step - loss: 0.1649 - accuracy: 0.9521\n",
            "Epoch 70/70\n",
            "1875/1875 [==============================] - 6s 3ms/step - loss: 0.1630 - accuracy: 0.9531\n",
            "313/313 [==============================] - 1s 3ms/step - loss: 0.1651 - accuracy: 0.9506\n",
            "Test error: 0.0493999719619751\n"
          ]
        }
      ]
    },
    {
      "cell_type": "code",
      "source": [
        "plt.figure(figsize=(12,9))\n",
        "plt.plot(history.history['loss'])\n",
        "plt.xlabel('Epochs')\n",
        "plt.ylabel('Loss')\n",
        "plt.title('Learning Curve_Tensorflow Implementation')\n",
        "plt.savefig('/content/drive/MyDrive/Colab Notebooks/CS760HW4/LC_Tf.pdf')"
      ],
      "metadata": {
        "colab": {
          "base_uri": "https://localhost:8080/",
          "height": 567
        },
        "id": "1H8wu4E0L6X9",
        "outputId": "1aa210c2-6820-40c8-bdc2-4a04bc221dde"
      },
      "execution_count": null,
      "outputs": [
        {
          "output_type": "display_data",
          "data": {
            "text/plain": [
              "<Figure size 864x648 with 1 Axes>"
            ],
            "image/png": "[encoded data removed]"
          },
          "metadata": {
            "needs_background": "light"
          }
        }
      ]
    },
    {
      "cell_type": "code",
      "source": [
        "w_kernel = tf.keras.initializers.Zeros()\n",
        "model = tf.keras.models.Sequential([\n",
        "    Dense(n_hidden[0], activation='sigmoid', input_shape=(Xnn_train_f.shape[1],), kernel_initializer=w_kernel),\n",
        "    Dense(n_hidden[1], activation='sigmoid', kernel_initializer=w_kernel),\n",
        "    Dense(ynn_train.shape[1], activation='softmax', kernel_initializer=w_kernel)\n",
        "    ])\n",
        "\n",
        "# compile model with stochastic gradient descent optimizer\n",
        "model.compile(optimizer=tf.keras.optimizers.SGD(learning_rate=0.01),\n",
        "              loss='categorical_crossentropy',\n",
        "              metrics=['accuracy'])\n",
        "\n",
        "# train model with batch size of 32 and 70 epochs\n",
        "history_w = model.fit(Xnn_train_f, ynn_train, epochs=70, batch_size=32)\n",
        "\n",
        "# evaluate model on test set\n",
        "test_loss, test_acc = model.evaluate(Xnn_val_f, ynn_val)\n",
        "print(f'Test error: {1 - test_acc}')\n",
        "\n",
        "plt.figure(figsize=(12,9))\n",
        "plt.plot(history_w.history['loss'])\n",
        "plt.xlabel('Epochs')\n",
        "plt.ylabel('Loss')\n",
        "plt.title('Learning Curve')\n",
        "plt.savefig('/content/drive/MyDrive/Colab Notebooks/CS760HW4/LF_zeros.pdf')"
      ],
      "metadata": {
        "colab": {
          "base_uri": "https://localhost:8080/",
          "height": 1000
        },
        "id": "FEYdxA4xPy_x",
        "outputId": "099f34c8-9bcc-44b0-a244-f795bfc9bba4"
      },
      "execution_count": null,
      "outputs": [
        {
          "output_type": "stream",
          "name": "stdout",
          "text": [
            "Epoch 1/70\n",
            "1875/1875 [==============================] - 6s 3ms/step - loss: 2.3047 - accuracy: 0.1045\n",
            "Epoch 2/70\n",
            "1875/1875 [==============================] - 5s 3ms/step - loss: 2.3046 - accuracy: 0.1081\n",
            "Epoch 3/70\n",
            "1875/1875 [==============================] - 9s 5ms/step - loss: 2.3046 - accuracy: 0.1052\n",
            "Epoch 4/70\n",
            "1875/1875 [==============================] - 6s 3ms/step - loss: 2.3046 - accuracy: 0.1044\n",
            "Epoch 5/70\n",
            "1875/1875 [==============================] - 6s 3ms/step - loss: 2.3043 - accuracy: 0.1065\n",
            "Epoch 6/70\n",
            "1875/1875 [==============================] - 7s 4ms/step - loss: 2.3045 - accuracy: 0.1065\n",
            "Epoch 7/70\n",
            "1875/1875 [==============================] - 9s 5ms/step - loss: 2.3044 - accuracy: 0.1072\n",
            "Epoch 8/70\n",
            "1875/1875 [==============================] - 6s 3ms/step - loss: 2.3042 - accuracy: 0.1065\n",
            "Epoch 9/70\n",
            "1875/1875 [==============================] - 6s 3ms/step - loss: 2.3041 - accuracy: 0.1061\n",
            "Epoch 10/70\n",
            "1875/1875 [==============================] - 5s 2ms/step - loss: 2.3041 - accuracy: 0.1062\n",
            "Epoch 11/70\n",
            "1875/1875 [==============================] - 5s 2ms/step - loss: 2.3041 - accuracy: 0.1084\n",
            "Epoch 12/70\n",
            "1875/1875 [==============================] - 7s 4ms/step - loss: 2.3039 - accuracy: 0.1057\n",
            "Epoch 13/70\n",
            "1875/1875 [==============================] - 5s 2ms/step - loss: 2.3035 - accuracy: 0.1065\n",
            "Epoch 14/70\n",
            "1875/1875 [==============================] - 6s 3ms/step - loss: 2.3039 - accuracy: 0.1067\n",
            "Epoch 15/70\n",
            "1875/1875 [==============================] - 5s 3ms/step - loss: 2.3037 - accuracy: 0.1075\n",
            "Epoch 16/70\n",
            "1875/1875 [==============================] - 5s 3ms/step - loss: 2.3039 - accuracy: 0.1069\n",
            "Epoch 17/70\n",
            "1875/1875 [==============================] - 6s 3ms/step - loss: 2.3036 - accuracy: 0.1066\n",
            "Epoch 18/70\n",
            "1875/1875 [==============================] - 7s 4ms/step - loss: 2.3037 - accuracy: 0.1062\n",
            "Epoch 19/70\n",
            "1875/1875 [==============================] - 7s 4ms/step - loss: 2.3033 - accuracy: 0.1052\n",
            "Epoch 20/70\n",
            "1875/1875 [==============================] - 5s 2ms/step - loss: 2.3035 - accuracy: 0.1080\n",
            "Epoch 21/70\n",
            "1875/1875 [==============================] - 5s 3ms/step - loss: 2.3030 - accuracy: 0.1070\n",
            "Epoch 22/70\n",
            "1875/1875 [==============================] - 5s 3ms/step - loss: 2.3033 - accuracy: 0.1068\n",
            "Epoch 23/70\n",
            "1875/1875 [==============================] - 5s 3ms/step - loss: 2.3031 - accuracy: 0.1096\n",
            "Epoch 24/70\n",
            "1875/1875 [==============================] - 6s 3ms/step - loss: 2.3030 - accuracy: 0.1087\n",
            "Epoch 25/70\n",
            "1875/1875 [==============================] - 5s 3ms/step - loss: 2.3029 - accuracy: 0.1089\n",
            "Epoch 26/70\n",
            "1875/1875 [==============================] - 5s 3ms/step - loss: 2.3027 - accuracy: 0.1097\n",
            "Epoch 27/70\n",
            "1875/1875 [==============================] - 6s 3ms/step - loss: 2.3026 - accuracy: 0.1107\n",
            "Epoch 28/70\n",
            "1875/1875 [==============================] - 5s 2ms/step - loss: 2.3024 - accuracy: 0.1110\n",
            "Epoch 29/70\n",
            "1875/1875 [==============================] - 6s 3ms/step - loss: 2.3020 - accuracy: 0.1119\n",
            "Epoch 30/70\n",
            "1875/1875 [==============================] - 5s 3ms/step - loss: 2.3017 - accuracy: 0.1119\n",
            "Epoch 31/70\n",
            "1875/1875 [==============================] - 6s 3ms/step - loss: 2.3012 - accuracy: 0.1125\n",
            "Epoch 32/70\n",
            "1875/1875 [==============================] - 5s 3ms/step - loss: 2.3003 - accuracy: 0.1142\n",
            "Epoch 33/70\n",
            "1875/1875 [==============================] - 5s 2ms/step - loss: 2.2991 - accuracy: 0.1143\n",
            "Epoch 34/70\n",
            "1875/1875 [==============================] - 6s 3ms/step - loss: 2.2969 - accuracy: 0.1172\n",
            "Epoch 35/70\n",
            "1875/1875 [==============================] - 5s 3ms/step - loss: 2.2933 - accuracy: 0.1181\n",
            "Epoch 36/70\n",
            "1875/1875 [==============================] - 5s 3ms/step - loss: 2.2861 - accuracy: 0.1162\n",
            "Epoch 37/70\n",
            "1875/1875 [==============================] - 6s 3ms/step - loss: 2.2703 - accuracy: 0.1253\n",
            "Epoch 38/70\n",
            "1875/1875 [==============================] - 5s 3ms/step - loss: 2.2360 - accuracy: 0.1758\n",
            "Epoch 39/70\n",
            "1875/1875 [==============================] - 5s 3ms/step - loss: 2.1740 - accuracy: 0.2152\n",
            "Epoch 40/70\n",
            "1875/1875 [==============================] - 5s 3ms/step - loss: 2.0969 - accuracy: 0.2427\n",
            "Epoch 41/70\n",
            "1875/1875 [==============================] - 5s 3ms/step - loss: 2.0303 - accuracy: 0.2659\n",
            "Epoch 42/70\n",
            "1875/1875 [==============================] - 6s 3ms/step - loss: 1.9817 - accuracy: 0.2783\n",
            "Epoch 43/70\n",
            "1875/1875 [==============================] - 5s 3ms/step - loss: 1.9454 - accuracy: 0.2882\n",
            "Epoch 44/70\n",
            "1875/1875 [==============================] - 5s 3ms/step - loss: 1.9152 - accuracy: 0.2961\n",
            "Epoch 45/70\n",
            "1875/1875 [==============================] - 6s 3ms/step - loss: 1.8886 - accuracy: 0.3010\n",
            "Epoch 46/70\n",
            "1875/1875 [==============================] - 5s 3ms/step - loss: 1.8642 - accuracy: 0.3055\n",
            "Epoch 47/70\n",
            "1875/1875 [==============================] - 6s 3ms/step - loss: 1.8417 - accuracy: 0.3114\n",
            "Epoch 48/70\n",
            "1875/1875 [==============================] - 5s 3ms/step - loss: 1.8210 - accuracy: 0.3167\n",
            "Epoch 49/70\n",
            "1875/1875 [==============================] - 5s 3ms/step - loss: 1.8020 - accuracy: 0.3214\n",
            "Epoch 50/70\n",
            "1875/1875 [==============================] - 6s 3ms/step - loss: 1.7847 - accuracy: 0.3257\n",
            "Epoch 51/70\n",
            "1875/1875 [==============================] - 5s 3ms/step - loss: 1.7690 - accuracy: 0.3305\n",
            "Epoch 52/70\n",
            "1875/1875 [==============================] - 6s 3ms/step - loss: 1.7549 - accuracy: 0.3343\n",
            "Epoch 53/70\n",
            "1875/1875 [==============================] - 5s 3ms/step - loss: 1.7420 - accuracy: 0.3371\n",
            "Epoch 54/70\n",
            "1875/1875 [==============================] - 5s 3ms/step - loss: 1.7306 - accuracy: 0.3401\n",
            "Epoch 55/70\n",
            "1875/1875 [==============================] - 6s 3ms/step - loss: 1.7200 - accuracy: 0.3428\n",
            "Epoch 56/70\n",
            "1875/1875 [==============================] - 5s 3ms/step - loss: 1.7107 - accuracy: 0.3463\n",
            "Epoch 57/70\n",
            "1875/1875 [==============================] - 5s 3ms/step - loss: 1.7021 - accuracy: 0.3528\n",
            "Epoch 58/70\n",
            "1875/1875 [==============================] - 6s 3ms/step - loss: 1.6943 - accuracy: 0.3520\n",
            "Epoch 59/70\n",
            "1875/1875 [==============================] - 5s 3ms/step - loss: 1.6871 - accuracy: 0.3539\n",
            "Epoch 60/70\n",
            "1875/1875 [==============================] - 6s 3ms/step - loss: 1.6805 - accuracy: 0.3542\n",
            "Epoch 61/70\n",
            "1875/1875 [==============================] - 5s 3ms/step - loss: 1.6746 - accuracy: 0.3624\n",
            "Epoch 62/70\n",
            "1875/1875 [==============================] - 5s 3ms/step - loss: 1.6691 - accuracy: 0.3611\n",
            "Epoch 63/70\n",
            "1875/1875 [==============================] - 6s 3ms/step - loss: 1.6639 - accuracy: 0.3623\n",
            "Epoch 64/70\n",
            "1875/1875 [==============================] - 5s 3ms/step - loss: 1.6591 - accuracy: 0.3630\n",
            "Epoch 65/70\n",
            "1875/1875 [==============================] - 6s 3ms/step - loss: 1.6547 - accuracy: 0.3665\n",
            "Epoch 66/70\n",
            "1875/1875 [==============================] - 5s 3ms/step - loss: 1.6504 - accuracy: 0.3652\n",
            "Epoch 67/70\n",
            "1875/1875 [==============================] - 5s 3ms/step - loss: 1.6465 - accuracy: 0.3676\n",
            "Epoch 68/70\n",
            "1875/1875 [==============================] - 6s 3ms/step - loss: 1.6428 - accuracy: 0.3679\n",
            "Epoch 69/70\n",
            "1875/1875 [==============================] - 5s 3ms/step - loss: 1.6393 - accuracy: 0.3698\n",
            "Epoch 70/70\n",
            "1875/1875 [==============================] - 5s 3ms/step - loss: 1.6359 - accuracy: 0.3701\n",
            "313/313 [==============================] - 1s 2ms/step - loss: 1.6192 - accuracy: 0.3772\n",
            "Test error: 0.6227999925613403\n"
          ]
        },
        {
          "output_type": "display_data",
          "data": {
            "text/plain": [
              "<Figure size 864x648 with 1 Axes>"
            ],
            "image/png": "[encoded data removed]"
          },
          "metadata": {
            "needs_background": "light"
          }
        }
      ]
    },
    {
      "cell_type": "code",
      "source": [
        "w_kernel = tf.keras.initializers.RandomUniform(minval=-1,maxval=1)\n",
        "model = tf.keras.models.Sequential([\n",
        "    Dense(n_hidden[0], activation='sigmoid', input_shape=(Xnn_train_f.shape[1],), kernel_initializer=w_kernel),\n",
        "    Dense(n_hidden[1], activation='sigmoid', kernel_initializer=w_kernel),\n",
        "    Dense(ynn_train.shape[1], activation='softmax', kernel_initializer=w_kernel)\n",
        "    ])\n",
        "\n",
        "# compile model with stochastic gradient descent optimizer\n",
        "model.compile(optimizer=tf.keras.optimizers.SGD(learning_rate=0.01),\n",
        "              loss='categorical_crossentropy',\n",
        "              metrics=['accuracy'])\n",
        "\n",
        "# train model with batch size of 32 and 70 epochs\n",
        "history_w = model.fit(Xnn_train_f, ynn_train, epochs=70, batch_size=32)\n",
        "\n",
        "# evaluate model on test set\n",
        "test_loss, test_acc = model.evaluate(Xnn_val_f, ynn_val)\n",
        "print(f'Test error: {1 - test_acc}')\n",
        "\n",
        "plt.figure(figsize=(12,9))\n",
        "plt.plot(history_w.history['loss'])\n",
        "plt.xlabel('Epochs')\n",
        "plt.ylabel('Loss')\n",
        "plt.title('Learning Curve')\n",
        "plt.savefig('/content/drive/MyDrive/Colab Notebooks/CS760HW4/LF_randomunif.pdf')"
      ],
      "metadata": {
        "colab": {
          "base_uri": "https://localhost:8080/",
          "height": 1000
        },
        "id": "H8P5DpiaTILk",
        "outputId": "2760c5be-0645-43c8-9477-ef197d3a4f6f"
      },
      "execution_count": null,
      "outputs": [
        {
          "output_type": "stream",
          "name": "stderr",
          "text": [
            "/usr/local/lib/python3.9/dist-packages/keras/initializers/initializers_v2.py:120: UserWarning: The initializer RandomUniform is unseeded and being called multiple times, which will return identical values  each time (even if the initializer is unseeded). Please update your code to provide a seed to the initializer, or avoid using the same initalizer instance more than once.\n",
            "  warnings.warn(\n"
          ]
        },
        {
          "output_type": "stream",
          "name": "stdout",
          "text": [
            "Epoch 1/70\n",
            "1875/1875 [==============================] - 5s 3ms/step - loss: 1.4605 - accuracy: 0.5622\n",
            "Epoch 2/70\n",
            "1875/1875 [==============================] - 6s 3ms/step - loss: 0.7251 - accuracy: 0.7690\n",
            "Epoch 3/70\n",
            "1875/1875 [==============================] - 5s 2ms/step - loss: 0.5704 - accuracy: 0.8209\n",
            "Epoch 4/70\n",
            "1875/1875 [==============================] - 5s 3ms/step - loss: 0.4918 - accuracy: 0.8467\n",
            "Epoch 5/70\n",
            "1875/1875 [==============================] - 6s 3ms/step - loss: 0.4421 - accuracy: 0.8631\n",
            "Epoch 6/70\n",
            "1875/1875 [==============================] - 5s 2ms/step - loss: 0.4066 - accuracy: 0.8744\n",
            "Epoch 7/70\n",
            "1875/1875 [==============================] - 5s 3ms/step - loss: 0.3795 - accuracy: 0.8830\n",
            "Epoch 8/70\n",
            "1875/1875 [==============================] - 5s 3ms/step - loss: 0.3578 - accuracy: 0.8906\n",
            "Epoch 9/70\n",
            "1875/1875 [==============================] - 5s 3ms/step - loss: 0.3397 - accuracy: 0.8959\n",
            "Epoch 10/70\n",
            "1875/1875 [==============================] - 6s 3ms/step - loss: 0.3248 - accuracy: 0.9007\n",
            "Epoch 11/70\n",
            "1875/1875 [==============================] - 5s 3ms/step - loss: 0.3114 - accuracy: 0.9050\n",
            "Epoch 12/70\n",
            "1875/1875 [==============================] - 5s 3ms/step - loss: 0.3000 - accuracy: 0.9085\n",
            "Epoch 13/70\n",
            "1875/1875 [==============================] - 6s 3ms/step - loss: 0.2895 - accuracy: 0.9118\n",
            "Epoch 14/70\n",
            "1875/1875 [==============================] - 5s 2ms/step - loss: 0.2802 - accuracy: 0.9149\n",
            "Epoch 15/70\n",
            "1875/1875 [==============================] - 6s 3ms/step - loss: 0.2720 - accuracy: 0.9169\n",
            "Epoch 16/70\n",
            "1875/1875 [==============================] - 5s 3ms/step - loss: 0.2644 - accuracy: 0.9203\n",
            "Epoch 17/70\n",
            "1875/1875 [==============================] - 5s 3ms/step - loss: 0.2571 - accuracy: 0.9225\n",
            "Epoch 18/70\n",
            "1875/1875 [==============================] - 6s 3ms/step - loss: 0.2505 - accuracy: 0.9243\n",
            "Epoch 19/70\n",
            "1875/1875 [==============================] - 5s 3ms/step - loss: 0.2443 - accuracy: 0.9265\n",
            "Epoch 20/70\n",
            "1875/1875 [==============================] - 5s 3ms/step - loss: 0.2387 - accuracy: 0.9276\n",
            "Epoch 21/70\n",
            "1875/1875 [==============================] - 5s 3ms/step - loss: 0.2332 - accuracy: 0.9295\n",
            "Epoch 22/70\n",
            "1875/1875 [==============================] - 5s 2ms/step - loss: 0.2281 - accuracy: 0.9315\n",
            "Epoch 23/70\n",
            "1875/1875 [==============================] - 5s 3ms/step - loss: 0.2234 - accuracy: 0.9329\n",
            "Epoch 24/70\n",
            "1875/1875 [==============================] - 5s 3ms/step - loss: 0.2188 - accuracy: 0.9342\n",
            "Epoch 25/70\n",
            "1875/1875 [==============================] - 5s 3ms/step - loss: 0.2145 - accuracy: 0.9358\n",
            "Epoch 26/70\n",
            "1875/1875 [==============================] - 6s 3ms/step - loss: 0.2104 - accuracy: 0.9372\n",
            "Epoch 27/70\n",
            "1875/1875 [==============================] - 5s 3ms/step - loss: 0.2063 - accuracy: 0.9386\n",
            "Epoch 28/70\n",
            "1875/1875 [==============================] - 5s 3ms/step - loss: 0.2026 - accuracy: 0.9393\n",
            "Epoch 29/70\n",
            "1875/1875 [==============================] - 5s 3ms/step - loss: 0.1989 - accuracy: 0.9402\n",
            "Epoch 30/70\n",
            "1875/1875 [==============================] - 5s 3ms/step - loss: 0.1956 - accuracy: 0.9417\n",
            "Epoch 31/70\n",
            "1875/1875 [==============================] - 6s 3ms/step - loss: 0.1922 - accuracy: 0.9431\n",
            "Epoch 32/70\n",
            "1875/1875 [==============================] - 5s 3ms/step - loss: 0.1890 - accuracy: 0.9435\n",
            "Epoch 33/70\n",
            "1875/1875 [==============================] - 5s 3ms/step - loss: 0.1860 - accuracy: 0.9452\n",
            "Epoch 34/70\n",
            "1875/1875 [==============================] - 6s 3ms/step - loss: 0.1831 - accuracy: 0.9463\n",
            "Epoch 35/70\n",
            "1875/1875 [==============================] - 5s 3ms/step - loss: 0.1801 - accuracy: 0.9471\n",
            "Epoch 36/70\n",
            "1875/1875 [==============================] - 5s 3ms/step - loss: 0.1774 - accuracy: 0.9474\n",
            "Epoch 37/70\n",
            "1875/1875 [==============================] - 5s 3ms/step - loss: 0.1746 - accuracy: 0.9486\n",
            "Epoch 38/70\n",
            "1875/1875 [==============================] - 5s 2ms/step - loss: 0.1722 - accuracy: 0.9494\n",
            "Epoch 39/70\n",
            "1875/1875 [==============================] - 6s 3ms/step - loss: 0.1695 - accuracy: 0.9501\n",
            "Epoch 40/70\n",
            "1875/1875 [==============================] - 5s 3ms/step - loss: 0.1672 - accuracy: 0.9510\n",
            "Epoch 41/70\n",
            "1875/1875 [==============================] - 5s 3ms/step - loss: 0.1648 - accuracy: 0.9513\n",
            "Epoch 42/70\n",
            "1875/1875 [==============================] - 6s 3ms/step - loss: 0.1625 - accuracy: 0.9527\n",
            "Epoch 43/70\n",
            "1875/1875 [==============================] - 5s 2ms/step - loss: 0.1604 - accuracy: 0.9533\n",
            "Epoch 44/70\n",
            "1875/1875 [==============================] - 5s 3ms/step - loss: 0.1580 - accuracy: 0.9538\n",
            "Epoch 45/70\n",
            "1875/1875 [==============================] - 5s 3ms/step - loss: 0.1561 - accuracy: 0.9543\n",
            "Epoch 46/70\n",
            "1875/1875 [==============================] - 5s 3ms/step - loss: 0.1539 - accuracy: 0.9549\n",
            "Epoch 47/70\n",
            "1875/1875 [==============================] - 6s 3ms/step - loss: 0.1519 - accuracy: 0.9559\n",
            "Epoch 48/70\n",
            "1875/1875 [==============================] - 5s 3ms/step - loss: 0.1502 - accuracy: 0.9562\n",
            "Epoch 49/70\n",
            "1875/1875 [==============================] - 5s 2ms/step - loss: 0.1482 - accuracy: 0.9571\n",
            "Epoch 50/70\n",
            "1875/1875 [==============================] - 6s 3ms/step - loss: 0.1461 - accuracy: 0.9574\n",
            "Epoch 51/70\n",
            "1875/1875 [==============================] - 5s 2ms/step - loss: 0.1444 - accuracy: 0.9580\n",
            "Epoch 52/70\n",
            "1875/1875 [==============================] - 5s 3ms/step - loss: 0.1427 - accuracy: 0.9587\n",
            "Epoch 53/70\n",
            "1875/1875 [==============================] - 5s 3ms/step - loss: 0.1410 - accuracy: 0.9586\n",
            "Epoch 54/70\n",
            "1875/1875 [==============================] - 5s 3ms/step - loss: 0.1392 - accuracy: 0.9600\n",
            "Epoch 55/70\n",
            "1875/1875 [==============================] - 6s 3ms/step - loss: 0.1377 - accuracy: 0.9604\n",
            "Epoch 56/70\n",
            "1875/1875 [==============================] - 5s 2ms/step - loss: 0.1361 - accuracy: 0.9606\n",
            "Epoch 57/70\n",
            "1875/1875 [==============================] - 5s 3ms/step - loss: 0.1344 - accuracy: 0.9611\n",
            "Epoch 58/70\n",
            "1875/1875 [==============================] - 6s 3ms/step - loss: 0.1329 - accuracy: 0.9617\n",
            "Epoch 59/70\n",
            "1875/1875 [==============================] - 5s 3ms/step - loss: 0.1314 - accuracy: 0.9622\n",
            "Epoch 60/70\n",
            "1875/1875 [==============================] - 5s 3ms/step - loss: 0.1299 - accuracy: 0.9624\n",
            "Epoch 61/70\n",
            "1875/1875 [==============================] - 5s 3ms/step - loss: 0.1284 - accuracy: 0.9631\n",
            "Epoch 62/70\n",
            "1875/1875 [==============================] - 5s 3ms/step - loss: 0.1271 - accuracy: 0.9637\n",
            "Epoch 63/70\n",
            "1875/1875 [==============================] - 6s 3ms/step - loss: 0.1256 - accuracy: 0.9639\n",
            "Epoch 64/70\n",
            "1875/1875 [==============================] - 5s 2ms/step - loss: 0.1242 - accuracy: 0.9643\n",
            "Epoch 65/70\n",
            "1875/1875 [==============================] - 5s 3ms/step - loss: 0.1229 - accuracy: 0.9652\n",
            "Epoch 66/70\n",
            "1875/1875 [==============================] - 5s 3ms/step - loss: 0.1216 - accuracy: 0.9658\n",
            "Epoch 67/70\n",
            "1875/1875 [==============================] - 5s 2ms/step - loss: 0.1203 - accuracy: 0.9654\n",
            "Epoch 68/70\n",
            "1875/1875 [==============================] - 5s 3ms/step - loss: 0.1189 - accuracy: 0.9663\n",
            "Epoch 69/70\n",
            "1875/1875 [==============================] - 5s 3ms/step - loss: 0.1177 - accuracy: 0.9666\n",
            "Epoch 70/70\n",
            "1875/1875 [==============================] - 5s 3ms/step - loss: 0.1164 - accuracy: 0.9669\n",
            "313/313 [==============================] - 1s 2ms/step - loss: 0.1715 - accuracy: 0.9481\n",
            "Test error: 0.05190002918243408\n"
          ]
        },
        {
          "output_type": "display_data",
          "data": {
            "text/plain": [
              "<Figure size 864x648 with 1 Axes>"
            ],
            "image/png": "[encoded data removed]"
          },
          "metadata": {
            "needs_background": "light"
          }
        }
      ]
    }
  ]
}